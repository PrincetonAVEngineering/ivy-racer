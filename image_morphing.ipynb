{
 "cells": [
  {
   "cell_type": "markdown",
   "metadata": {},
   "source": [
    "# Getting the direction of a road mask.\n",
    "\n",
    "This code uses np applied to an image mask to determine the direction that the road is curving in. \n",
    "\n",
    "It returns a line following the center of the road as seen on the mask.\n"
   ]
  },
  {
   "cell_type": "code",
   "execution_count": 16,
   "metadata": {},
   "outputs": [],
   "source": [
    "import cv2\n",
    "\n",
    "image = cv2.imread(\"segmentation_mask_2.png\")"
   ]
  },
  {
   "cell_type": "code",
   "execution_count": 19,
   "metadata": {},
   "outputs": [
    {
     "data": {
      "text/plain": [
       "-1"
      ]
     },
     "execution_count": 19,
     "metadata": {},
     "output_type": "execute_result"
    }
   ],
   "source": [
    "image = cv2.resize(image, (640, 400))\n",
    "for i in range(10):\n",
    "    cv2.imshow(\"Name\", image)\n",
    "cv2.waitKey()"
   ]
  },
  {
   "cell_type": "code",
   "execution_count": 5,
   "metadata": {},
   "outputs": [],
   "source": [
    "gray_image = cv2.cvtColor(image, cv2.COLOR_BGR2GRAY)\n"
   ]
  },
  {
   "cell_type": "code",
   "execution_count": 12,
   "metadata": {},
   "outputs": [],
   "source": [
    "from image_functions import get_average_index_high\n",
    "import numpy as np\n",
    "\n",
    "def convert_image_to_direction(image):\n",
    "    black_image = np.zeros_like(image)\n",
    "    for i, row in enumerate(image):\n",
    "        indices = np.where(row == 255)[0]\n",
    "        if len(indices) == 0:\n",
    "            avg_index = None\n",
    "        else:\n",
    "            avg_index = int(np.mean(indices))\n",
    "\n",
    "        if avg_index is None or np.isnan(avg_index):\n",
    "            continue\n",
    "        black_image[i, avg_index] = 255\n",
    "    \n",
    "    black_image_cv = cv2.cvtColor(black_image, cv2.COLOR_RGB2BGR)\n",
    "    return black_image_cv\n",
    "    \n",
    "direction_image = convert_image_to_direction(gray_image)"
   ]
  },
  {
   "cell_type": "code",
   "execution_count": 18,
   "metadata": {},
   "outputs": [
    {
     "data": {
      "text/plain": [
       "-1"
      ]
     },
     "execution_count": 18,
     "metadata": {},
     "output_type": "execute_result"
    }
   ],
   "source": [
    "cv2.imshow(\"Name\", direction_image)\n",
    "cv2.waitKey()"
   ]
  },
  {
   "cell_type": "markdown",
   "metadata": {},
   "source": []
  }
 ],
 "metadata": {
  "kernelspec": {
   "display_name": ".venv",
   "language": "python",
   "name": "python3"
  },
  "language_info": {
   "codemirror_mode": {
    "name": "ipython",
    "version": 3
   },
   "file_extension": ".py",
   "mimetype": "text/x-python",
   "name": "python",
   "nbconvert_exporter": "python",
   "pygments_lexer": "ipython3",
   "version": "3.10.0"
  }
 },
 "nbformat": 4,
 "nbformat_minor": 2
}
